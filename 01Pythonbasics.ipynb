{
 "cells": [
  {
   "cell_type": "code",
   "execution_count": 1,
   "id": "9fbcc773-e0e7-4d0b-8822-90524f831e7e",
   "metadata": {},
   "outputs": [
    {
     "name": "stdout",
     "output_type": "stream",
     "text": [
      "Hello World\n"
     ]
    }
   ],
   "source": [
    "print(\"Hello World\")"
   ]
  },
  {
   "cell_type": "markdown",
   "id": "6dc881c8-3c68-49f5-b426-ff94c7269206",
   "metadata": {},
   "source": [
    "###### Simple Python Program"
   ]
  },
  {
   "cell_type": "code",
   "execution_count": 4,
   "id": "e5bd4037-963a-4590-9abd-8bd4f6b32d75",
   "metadata": {},
   "outputs": [
    {
     "name": "stdin",
     "output_type": "stream",
     "text": [
      "Enter the temperature 36\n"
     ]
    },
    {
     "name": "stdout",
     "output_type": "stream",
     "text": [
      "Farenhite Temperature: 96.8\n"
     ]
    }
   ],
   "source": [
    "cent = int(input(\"Enter the temperature\"))\n",
    "far = cent *1.8 +32\n",
    "print('Farenhite Temperature:',far)"
   ]
  },
  {
   "cell_type": "code",
   "execution_count": null,
   "id": "902ec027-311a-438f-973d-50a96e48930c",
   "metadata": {},
   "outputs": [],
   "source": []
  },
  {
   "cell_type": "code",
   "execution_count": 5,
   "id": "32eae4eb-bac6-4833-9432-546fa9d39dbf",
   "metadata": {},
   "outputs": [
    {
     "data": {
      "text/plain": [
       "int"
      ]
     },
     "execution_count": 5,
     "metadata": {},
     "output_type": "execute_result"
    }
   ],
   "source": [
    "type(cent)"
   ]
  },
  {
   "cell_type": "code",
   "execution_count": 6,
   "id": "be356bff-faee-4192-8266-c5d14a656c7c",
   "metadata": {},
   "outputs": [
    {
     "data": {
      "text/plain": [
       "float"
      ]
     },
     "execution_count": 6,
     "metadata": {},
     "output_type": "execute_result"
    }
   ],
   "source": [
    "type(far)"
   ]
  },
  {
   "cell_type": "code",
   "execution_count": 20,
   "id": "88481f7e-6315-41d8-b3a9-d2ee8a23555a",
   "metadata": {},
   "outputs": [],
   "source": [
    "#####Decision Making Statements"
   ]
  },
  {
   "cell_type": "code",
   "execution_count": 14,
   "id": "5f0304c4-40cd-40f3-9d6e-e1505c73e316",
   "metadata": {},
   "outputs": [
    {
     "name": "stdin",
     "output_type": "stream",
     "text": [
      "Enter the Number 5\n"
     ]
    },
    {
     "name": "stdout",
     "output_type": "stream",
     "text": [
      "Number is positive\n"
     ]
    }
   ],
   "source": [
    "num = int(input('Enter the Number'))\n",
    "if num >0:\n",
    "     print ('Number is positive')\n",
    "else:\n",
    "    print('Number is Negative')"
   ]
  },
  {
   "cell_type": "code",
   "execution_count": 18,
   "id": "81591846-1cfb-411a-818b-5408ba85b51e",
   "metadata": {},
   "outputs": [
    {
     "name": "stdin",
     "output_type": "stream",
     "text": [
      "Enter the Number -56\n"
     ]
    },
    {
     "name": "stdout",
     "output_type": "stream",
     "text": [
      "Number is Negative\n"
     ]
    }
   ],
   "source": [
    "num = int(input('Enter the Number'))\n",
    "if num >0:\n",
    "     print ('Number is positive')\n",
    "elif num == 0:\n",
    "    print('Number is Zero')\n",
    "else:\n",
    "    print('Number is Negative')"
   ]
  },
  {
   "cell_type": "code",
   "execution_count": 22,
   "id": "e84e562a-843e-4ddf-8c25-4a072ed51d88",
   "metadata": {},
   "outputs": [],
   "source": [
    "##### Looping"
   ]
  },
  {
   "cell_type": "code",
   "execution_count": 23,
   "id": "cdbba76c-e3db-49c9-a7de-8192873b7235",
   "metadata": {},
   "outputs": [
    {
     "name": "stdout",
     "output_type": "stream",
     "text": [
      "Tushar\n",
      "Tushar\n",
      "Tushar\n",
      "Tushar\n",
      "Tushar\n",
      "Tushar\n",
      "Tushar\n",
      "Tushar\n",
      "Tushar\n",
      "Tushar\n"
     ]
    }
   ],
   "source": [
    "count = 0\n",
    "while count < 10:\n",
    "    print ('Tushar')\n",
    "    count+=1\n"
   ]
  },
  {
   "cell_type": "code",
   "execution_count": 24,
   "id": "4eaefac3-ebfd-40b3-bd82-b773c4a5c69a",
   "metadata": {},
   "outputs": [
    {
     "name": "stdout",
     "output_type": "stream",
     "text": [
      "67\n",
      "23\n",
      "16\n",
      "33\n",
      "27\n"
     ]
    }
   ],
   "source": [
    "for i in 67,23,16,33,27:\n",
    "    print(i)"
   ]
  },
  {
   "cell_type": "code",
   "execution_count": 25,
   "id": "b8e8deac-27c1-4d49-868b-f701f272f9b6",
   "metadata": {},
   "outputs": [
    {
     "name": "stdout",
     "output_type": "stream",
     "text": [
      "PPPPPPPPPP\n",
      "uuuuuuuuuu\n",
      "nnnnnnnnnn\n",
      "eeeeeeeeee\n"
     ]
    }
   ],
   "source": [
    "for i in 'Pune':\n",
    "    print(i*10)"
   ]
  },
  {
   "cell_type": "code",
   "execution_count": 28,
   "id": "4c8b1912-dd59-4697-bc70-26938a5d576d",
   "metadata": {},
   "outputs": [
    {
     "name": "stdout",
     "output_type": "stream",
     "text": [
      "0\n",
      "1\n",
      "4\n",
      "9\n",
      "16\n",
      "25\n",
      "36\n",
      "49\n",
      "64\n",
      "81\n"
     ]
    }
   ],
   "source": [
    "for x in range(10):\n",
    "    print(x*x)"
   ]
  },
  {
   "cell_type": "code",
   "execution_count": 29,
   "id": "14a2dd24-2407-474b-b008-226917992ea3",
   "metadata": {},
   "outputs": [
    {
     "name": "stdout",
     "output_type": "stream",
     "text": [
      "0\n",
      "1\n",
      "4\n",
      "9\n",
      "16\n",
      "36\n",
      "49\n",
      "64\n",
      "81\n"
     ]
    }
   ],
   "source": [
    "for x in range(10):\n",
    "    if x == 5:\n",
    "        continue\n",
    "    print(x*x)"
   ]
  },
  {
   "cell_type": "code",
   "execution_count": 32,
   "id": "aa4a4cca-3082-4abd-9b49-f9320a9c2f8b",
   "metadata": {},
   "outputs": [],
   "source": [
    "#####Function"
   ]
  },
  {
   "cell_type": "code",
   "execution_count": 37,
   "id": "dedaada8-a324-4245-afa6-1c7a65a0cb6e",
   "metadata": {},
   "outputs": [],
   "source": [
    "def square(num):\n",
    "    sq = num * num\n",
    "    return sq"
   ]
  },
  {
   "cell_type": "code",
   "execution_count": 38,
   "id": "07d9036e-6320-4ae7-9119-16b785f78f9a",
   "metadata": {},
   "outputs": [
    {
     "name": "stdout",
     "output_type": "stream",
     "text": [
      "Square is: 25\n"
     ]
    }
   ],
   "source": [
    "print('Square is:',square(5))"
   ]
  },
  {
   "cell_type": "code",
   "execution_count": 39,
   "id": "f77eb866-b2ba-49a6-9dac-e6f1b10b47f4",
   "metadata": {},
   "outputs": [
    {
     "data": {
      "text/plain": [
       "529"
      ]
     },
     "execution_count": 39,
     "metadata": {},
     "output_type": "execute_result"
    }
   ],
   "source": [
    "square(23)"
   ]
  },
  {
   "cell_type": "code",
   "execution_count": 40,
   "id": "f25c6b24-ccd0-4c45-863a-b5a841d998d5",
   "metadata": {},
   "outputs": [],
   "source": [
    "def calc(num):\n",
    "    sq = num *num\n",
    "    cu = num ** 3\n",
    "    return sq, cu"
   ]
  },
  {
   "cell_type": "code",
   "execution_count": 41,
   "id": "400c12ce-234b-42ad-8e3e-0a0ec5da8d7f",
   "metadata": {},
   "outputs": [
    {
     "data": {
      "text/plain": [
       "(4, 8)"
      ]
     },
     "execution_count": 41,
     "metadata": {},
     "output_type": "execute_result"
    }
   ],
   "source": [
    "calc(2)"
   ]
  },
  {
   "cell_type": "code",
   "execution_count": 42,
   "id": "bd0da405-59d8-4226-8536-e7b1be1baec8",
   "metadata": {},
   "outputs": [],
   "source": [
    "num1 = [45,52,87,32,65]"
   ]
  },
  {
   "cell_type": "code",
   "execution_count": 43,
   "id": "6154c77b-cac2-488c-a46f-34de5592b27c",
   "metadata": {},
   "outputs": [
    {
     "data": {
      "text/plain": [
       "list"
      ]
     },
     "execution_count": 43,
     "metadata": {},
     "output_type": "execute_result"
    }
   ],
   "source": [
    "type(num1)"
   ]
  },
  {
   "cell_type": "code",
   "execution_count": 44,
   "id": "a8fd215f-898a-446f-b408-4013b9fbfbaf",
   "metadata": {},
   "outputs": [
    {
     "data": {
      "text/plain": [
       "65"
      ]
     },
     "execution_count": 44,
     "metadata": {},
     "output_type": "execute_result"
    }
   ],
   "source": [
    "num1[4]"
   ]
  },
  {
   "cell_type": "code",
   "execution_count": 49,
   "id": "9b273afb-ef5d-49e1-bac6-857e06a39dd9",
   "metadata": {},
   "outputs": [],
   "source": [
    "num2 = (45,52,87,32,65)"
   ]
  },
  {
   "cell_type": "code",
   "execution_count": 50,
   "id": "7404c798-d411-4453-ab44-b0cef682cae6",
   "metadata": {},
   "outputs": [
    {
     "data": {
      "text/plain": [
       "tuple"
      ]
     },
     "execution_count": 50,
     "metadata": {},
     "output_type": "execute_result"
    }
   ],
   "source": [
    "type(num2)"
   ]
  },
  {
   "cell_type": "code",
   "execution_count": 51,
   "id": "749cc411-9911-48b5-8057-0e6521f435b8",
   "metadata": {},
   "outputs": [
    {
     "ename": "TypeError",
     "evalue": "'tuple' object does not support item assignment",
     "output_type": "error",
     "traceback": [
      "\u001b[1;31m---------------------------------------------------------------------------\u001b[0m",
      "\u001b[1;31mTypeError\u001b[0m                                 Traceback (most recent call last)",
      "Cell \u001b[1;32mIn[51], line 1\u001b[0m\n\u001b[1;32m----> 1\u001b[0m num2[\u001b[38;5;241m2\u001b[39m] \u001b[38;5;241m=\u001b[39m \u001b[38;5;241m12\u001b[39m\n",
      "\u001b[1;31mTypeError\u001b[0m: 'tuple' object does not support item assignment"
     ]
    }
   ],
   "source": [
    "num2[2] = 12"
   ]
  },
  {
   "cell_type": "code",
   "execution_count": 61,
   "id": "bdfbb7fa-5761-4d35-b271-048d317eedca",
   "metadata": {},
   "outputs": [],
   "source": [
    "num3 = {45,52,87,32,65}"
   ]
  },
  {
   "cell_type": "code",
   "execution_count": 62,
   "id": "112e2b10-a9c9-437f-bd55-a47c61bafeac",
   "metadata": {},
   "outputs": [
    {
     "data": {
      "text/plain": [
       "set"
      ]
     },
     "execution_count": 62,
     "metadata": {},
     "output_type": "execute_result"
    }
   ],
   "source": [
    "type(num3)"
   ]
  },
  {
   "cell_type": "code",
   "execution_count": 54,
   "id": "c4148859-2de7-4689-8b74-f8a93defa65c",
   "metadata": {},
   "outputs": [],
   "source": [
    "num2 = {45,45,52,87,32,65}"
   ]
  },
  {
   "cell_type": "code",
   "execution_count": 56,
   "id": "e78ac96c-cc6b-4eb4-8059-a1d5c2c35b8b",
   "metadata": {},
   "outputs": [
    {
     "data": {
      "text/plain": [
       "{32, 45, 52, 65, 87}"
      ]
     },
     "execution_count": 56,
     "metadata": {},
     "output_type": "execute_result"
    }
   ],
   "source": [
    "num2"
   ]
  },
  {
   "cell_type": "code",
   "execution_count": 57,
   "id": "fc4d5096-8165-4fe1-b177-33accdeb02f8",
   "metadata": {},
   "outputs": [],
   "source": [
    "num4 = {2:45, 5:67, 2:56, 'x':100}"
   ]
  },
  {
   "cell_type": "code",
   "execution_count": 58,
   "id": "30ca1f5b-1ffa-4546-86c5-4f9c33a8ffde",
   "metadata": {},
   "outputs": [
    {
     "data": {
      "text/plain": [
       "dict"
      ]
     },
     "execution_count": 58,
     "metadata": {},
     "output_type": "execute_result"
    }
   ],
   "source": [
    "type(num4)"
   ]
  },
  {
   "cell_type": "code",
   "execution_count": 60,
   "id": "1eb21e03-cb2c-4d78-bfc9-b1d2b53ccc8f",
   "metadata": {},
   "outputs": [
    {
     "data": {
      "text/plain": [
       "56"
      ]
     },
     "execution_count": 60,
     "metadata": {},
     "output_type": "execute_result"
    }
   ],
   "source": [
    "num4[2]"
   ]
  },
  {
   "cell_type": "code",
   "execution_count": 64,
   "id": "e8714512-9939-4139-ab31-3aae69175043",
   "metadata": {},
   "outputs": [],
   "source": [
    "num2.add(5)"
   ]
  },
  {
   "cell_type": "code",
   "execution_count": 65,
   "id": "c277b6d5-30a1-489e-b96a-97ff08dcb53a",
   "metadata": {},
   "outputs": [
    {
     "data": {
      "text/plain": [
       "{5, 32, 45, 52, 65, 87}"
      ]
     },
     "execution_count": 65,
     "metadata": {},
     "output_type": "execute_result"
    }
   ],
   "source": [
    "num2"
   ]
  },
  {
   "cell_type": "code",
   "execution_count": 69,
   "id": "d9d9d4cc-ecd6-4819-b35e-d653dc6ee7b0",
   "metadata": {},
   "outputs": [
    {
     "data": {
      "text/plain": [
       "<function dict.keys>"
      ]
     },
     "execution_count": 69,
     "metadata": {},
     "output_type": "execute_result"
    }
   ],
   "source": [
    "num4.keys"
   ]
  },
  {
   "cell_type": "code",
   "execution_count": 70,
   "id": "12fbf9f1-5514-4631-89ba-827b14bf696a",
   "metadata": {},
   "outputs": [],
   "source": [
    "name = 'Jincy'"
   ]
  },
  {
   "cell_type": "code",
   "execution_count": 72,
   "id": "7b916f12-0fc7-4342-8d0a-310879fa38c2",
   "metadata": {},
   "outputs": [
    {
     "data": {
      "text/plain": [
       "'Jincy'"
      ]
     },
     "execution_count": 72,
     "metadata": {},
     "output_type": "execute_result"
    }
   ],
   "source": [
    "name.capitalize()"
   ]
  },
  {
   "cell_type": "code",
   "execution_count": 73,
   "id": "00a30147-6264-4d21-a08d-8e51c740883a",
   "metadata": {},
   "outputs": [
    {
     "data": {
      "text/plain": [
       "'JINCY'"
      ]
     },
     "execution_count": 73,
     "metadata": {},
     "output_type": "execute_result"
    }
   ],
   "source": [
    "name.upper()"
   ]
  },
  {
   "cell_type": "code",
   "execution_count": 74,
   "id": "c0915df9-aa12-4619-96ea-bbb45256dea9",
   "metadata": {},
   "outputs": [],
   "source": [
    "class Person:\n",
    "    def __init__(self,n, a):\n",
    "        self.name = n\n",
    "        self.age = a\n",
    "    def show(self):\n",
    "        print('Values are:')\n",
    "        print(self.name,self.age)"
   ]
  },
  {
   "cell_type": "code",
   "execution_count": 75,
   "id": "2b192589-a437-4728-9487-423aedea6f3f",
   "metadata": {},
   "outputs": [],
   "source": [
    "p1 = Person('Jincy',30)"
   ]
  },
  {
   "cell_type": "code",
   "execution_count": 76,
   "id": "e492982b-110a-403a-a505-e94453a48fb9",
   "metadata": {},
   "outputs": [
    {
     "data": {
      "text/plain": [
       "'Jincy'"
      ]
     },
     "execution_count": 76,
     "metadata": {},
     "output_type": "execute_result"
    }
   ],
   "source": [
    "p1.name"
   ]
  },
  {
   "cell_type": "code",
   "execution_count": 77,
   "id": "f00d54ac-99d2-4a81-a020-e039983032e2",
   "metadata": {},
   "outputs": [
    {
     "data": {
      "text/plain": [
       "30"
      ]
     },
     "execution_count": 77,
     "metadata": {},
     "output_type": "execute_result"
    }
   ],
   "source": [
    "p1.age"
   ]
  },
  {
   "cell_type": "code",
   "execution_count": 78,
   "id": "a9272dba-fd8a-436b-b65e-45d4fff80d41",
   "metadata": {},
   "outputs": [
    {
     "name": "stdout",
     "output_type": "stream",
     "text": [
      "Values are:\n",
      "Jincy 30\n"
     ]
    }
   ],
   "source": [
    "p1.show()"
   ]
  },
  {
   "cell_type": "code",
   "execution_count": 79,
   "id": "f1227734-473b-4445-beb9-242dcd2500df",
   "metadata": {},
   "outputs": [],
   "source": [
    "p2 = Person('Rahul',36)"
   ]
  },
  {
   "cell_type": "code",
   "execution_count": 80,
   "id": "e521f94a-851a-46f3-93c2-c5264dd52496",
   "metadata": {},
   "outputs": [
    {
     "data": {
      "text/plain": [
       "'Rahul'"
      ]
     },
     "execution_count": 80,
     "metadata": {},
     "output_type": "execute_result"
    }
   ],
   "source": [
    "p2.name"
   ]
  },
  {
   "cell_type": "code",
   "execution_count": 81,
   "id": "1c7f3ffb-39ea-46b3-b2cc-4bd6c2df4526",
   "metadata": {},
   "outputs": [
    {
     "data": {
      "text/plain": [
       "36"
      ]
     },
     "execution_count": 81,
     "metadata": {},
     "output_type": "execute_result"
    }
   ],
   "source": [
    "p2.age"
   ]
  },
  {
   "cell_type": "code",
   "execution_count": 82,
   "id": "7b3c777a-a716-4db0-be6e-202d8f0e0eea",
   "metadata": {},
   "outputs": [
    {
     "name": "stdout",
     "output_type": "stream",
     "text": [
      "Values are:\n",
      "Rahul 36\n"
     ]
    }
   ],
   "source": [
    "p2.show()"
   ]
  },
  {
   "cell_type": "code",
   "execution_count": 83,
   "id": "025eb8c1-6b48-4c35-9b42-1d23ab1a1ec9",
   "metadata": {},
   "outputs": [],
   "source": [
    "#####using the libraries"
   ]
  },
  {
   "cell_type": "code",
   "execution_count": 84,
   "id": "89ef1302-0bd9-4023-af5d-28b98fd7a1eb",
   "metadata": {},
   "outputs": [],
   "source": [
    "import math"
   ]
  },
  {
   "cell_type": "code",
   "execution_count": 85,
   "id": "16571329-6aef-488f-8da2-b786e06063c4",
   "metadata": {},
   "outputs": [
    {
     "name": "stdout",
     "output_type": "stream",
     "text": [
      "Help on built-in module math:\n",
      "\n",
      "NAME\n",
      "    math\n",
      "\n",
      "DESCRIPTION\n",
      "    This module provides access to the mathematical functions\n",
      "    defined by the C standard.\n",
      "\n",
      "FUNCTIONS\n",
      "    acos(x, /)\n",
      "        Return the arc cosine (measured in radians) of x.\n",
      "        \n",
      "        The result is between 0 and pi.\n",
      "    \n",
      "    acosh(x, /)\n",
      "        Return the inverse hyperbolic cosine of x.\n",
      "    \n",
      "    asin(x, /)\n",
      "        Return the arc sine (measured in radians) of x.\n",
      "        \n",
      "        The result is between -pi/2 and pi/2.\n",
      "    \n",
      "    asinh(x, /)\n",
      "        Return the inverse hyperbolic sine of x.\n",
      "    \n",
      "    atan(x, /)\n",
      "        Return the arc tangent (measured in radians) of x.\n",
      "        \n",
      "        The result is between -pi/2 and pi/2.\n",
      "    \n",
      "    atan2(y, x, /)\n",
      "        Return the arc tangent (measured in radians) of y/x.\n",
      "        \n",
      "        Unlike atan(y/x), the signs of both x and y are considered.\n",
      "    \n",
      "    atanh(x, /)\n",
      "        Return the inverse hyperbolic tangent of x.\n",
      "    \n",
      "    cbrt(x, /)\n",
      "        Return the cube root of x.\n",
      "    \n",
      "    ceil(x, /)\n",
      "        Return the ceiling of x as an Integral.\n",
      "        \n",
      "        This is the smallest integer >= x.\n",
      "    \n",
      "    comb(n, k, /)\n",
      "        Number of ways to choose k items from n items without repetition and without order.\n",
      "        \n",
      "        Evaluates to n! / (k! * (n - k)!) when k <= n and evaluates\n",
      "        to zero when k > n.\n",
      "        \n",
      "        Also called the binomial coefficient because it is equivalent\n",
      "        to the coefficient of k-th term in polynomial expansion of the\n",
      "        expression (1 + x)**n.\n",
      "        \n",
      "        Raises TypeError if either of the arguments are not integers.\n",
      "        Raises ValueError if either of the arguments are negative.\n",
      "    \n",
      "    copysign(x, y, /)\n",
      "        Return a float with the magnitude (absolute value) of x but the sign of y.\n",
      "        \n",
      "        On platforms that support signed zeros, copysign(1.0, -0.0)\n",
      "        returns -1.0.\n",
      "    \n",
      "    cos(x, /)\n",
      "        Return the cosine of x (measured in radians).\n",
      "    \n",
      "    cosh(x, /)\n",
      "        Return the hyperbolic cosine of x.\n",
      "    \n",
      "    degrees(x, /)\n",
      "        Convert angle x from radians to degrees.\n",
      "    \n",
      "    dist(p, q, /)\n",
      "        Return the Euclidean distance between two points p and q.\n",
      "        \n",
      "        The points should be specified as sequences (or iterables) of\n",
      "        coordinates.  Both inputs must have the same dimension.\n",
      "        \n",
      "        Roughly equivalent to:\n",
      "            sqrt(sum((px - qx) ** 2.0 for px, qx in zip(p, q)))\n",
      "    \n",
      "    erf(x, /)\n",
      "        Error function at x.\n",
      "    \n",
      "    erfc(x, /)\n",
      "        Complementary error function at x.\n",
      "    \n",
      "    exp(x, /)\n",
      "        Return e raised to the power of x.\n",
      "    \n",
      "    exp2(x, /)\n",
      "        Return 2 raised to the power of x.\n",
      "    \n",
      "    expm1(x, /)\n",
      "        Return exp(x)-1.\n",
      "        \n",
      "        This function avoids the loss of precision involved in the direct evaluation of exp(x)-1 for small x.\n",
      "    \n",
      "    fabs(x, /)\n",
      "        Return the absolute value of the float x.\n",
      "    \n",
      "    factorial(n, /)\n",
      "        Find n!.\n",
      "        \n",
      "        Raise a ValueError if x is negative or non-integral.\n",
      "    \n",
      "    floor(x, /)\n",
      "        Return the floor of x as an Integral.\n",
      "        \n",
      "        This is the largest integer <= x.\n",
      "    \n",
      "    fmod(x, y, /)\n",
      "        Return fmod(x, y), according to platform C.\n",
      "        \n",
      "        x % y may differ.\n",
      "    \n",
      "    frexp(x, /)\n",
      "        Return the mantissa and exponent of x, as pair (m, e).\n",
      "        \n",
      "        m is a float and e is an int, such that x = m * 2.**e.\n",
      "        If x is 0, m and e are both 0.  Else 0.5 <= abs(m) < 1.0.\n",
      "    \n",
      "    fsum(seq, /)\n",
      "        Return an accurate floating point sum of values in the iterable seq.\n",
      "        \n",
      "        Assumes IEEE-754 floating point arithmetic.\n",
      "    \n",
      "    gamma(x, /)\n",
      "        Gamma function at x.\n",
      "    \n",
      "    gcd(*integers)\n",
      "        Greatest Common Divisor.\n",
      "    \n",
      "    hypot(...)\n",
      "        hypot(*coordinates) -> value\n",
      "        \n",
      "        Multidimensional Euclidean distance from the origin to a point.\n",
      "        \n",
      "        Roughly equivalent to:\n",
      "            sqrt(sum(x**2 for x in coordinates))\n",
      "        \n",
      "        For a two dimensional point (x, y), gives the hypotenuse\n",
      "        using the Pythagorean theorem:  sqrt(x*x + y*y).\n",
      "        \n",
      "        For example, the hypotenuse of a 3/4/5 right triangle is:\n",
      "        \n",
      "            >>> hypot(3.0, 4.0)\n",
      "            5.0\n",
      "    \n",
      "    isclose(a, b, *, rel_tol=1e-09, abs_tol=0.0)\n",
      "        Determine whether two floating point numbers are close in value.\n",
      "        \n",
      "          rel_tol\n",
      "            maximum difference for being considered \"close\", relative to the\n",
      "            magnitude of the input values\n",
      "          abs_tol\n",
      "            maximum difference for being considered \"close\", regardless of the\n",
      "            magnitude of the input values\n",
      "        \n",
      "        Return True if a is close in value to b, and False otherwise.\n",
      "        \n",
      "        For the values to be considered close, the difference between them\n",
      "        must be smaller than at least one of the tolerances.\n",
      "        \n",
      "        -inf, inf and NaN behave similarly to the IEEE 754 Standard.  That\n",
      "        is, NaN is not close to anything, even itself.  inf and -inf are\n",
      "        only close to themselves.\n",
      "    \n",
      "    isfinite(x, /)\n",
      "        Return True if x is neither an infinity nor a NaN, and False otherwise.\n",
      "    \n",
      "    isinf(x, /)\n",
      "        Return True if x is a positive or negative infinity, and False otherwise.\n",
      "    \n",
      "    isnan(x, /)\n",
      "        Return True if x is a NaN (not a number), and False otherwise.\n",
      "    \n",
      "    isqrt(n, /)\n",
      "        Return the integer part of the square root of the input.\n",
      "    \n",
      "    lcm(*integers)\n",
      "        Least Common Multiple.\n",
      "    \n",
      "    ldexp(x, i, /)\n",
      "        Return x * (2**i).\n",
      "        \n",
      "        This is essentially the inverse of frexp().\n",
      "    \n",
      "    lgamma(x, /)\n",
      "        Natural logarithm of absolute value of Gamma function at x.\n",
      "    \n",
      "    log(...)\n",
      "        log(x, [base=math.e])\n",
      "        Return the logarithm of x to the given base.\n",
      "        \n",
      "        If the base not specified, returns the natural logarithm (base e) of x.\n",
      "    \n",
      "    log10(x, /)\n",
      "        Return the base 10 logarithm of x.\n",
      "    \n",
      "    log1p(x, /)\n",
      "        Return the natural logarithm of 1+x (base e).\n",
      "        \n",
      "        The result is computed in a way which is accurate for x near zero.\n",
      "    \n",
      "    log2(x, /)\n",
      "        Return the base 2 logarithm of x.\n",
      "    \n",
      "    modf(x, /)\n",
      "        Return the fractional and integer parts of x.\n",
      "        \n",
      "        Both results carry the sign of x and are floats.\n",
      "    \n",
      "    nextafter(x, y, /)\n",
      "        Return the next floating-point value after x towards y.\n",
      "    \n",
      "    perm(n, k=None, /)\n",
      "        Number of ways to choose k items from n items without repetition and with order.\n",
      "        \n",
      "        Evaluates to n! / (n - k)! when k <= n and evaluates\n",
      "        to zero when k > n.\n",
      "        \n",
      "        If k is not specified or is None, then k defaults to n\n",
      "        and the function returns n!.\n",
      "        \n",
      "        Raises TypeError if either of the arguments are not integers.\n",
      "        Raises ValueError if either of the arguments are negative.\n",
      "    \n",
      "    pow(x, y, /)\n",
      "        Return x**y (x to the power of y).\n",
      "    \n",
      "    prod(iterable, /, *, start=1)\n",
      "        Calculate the product of all the elements in the input iterable.\n",
      "        \n",
      "        The default start value for the product is 1.\n",
      "        \n",
      "        When the iterable is empty, return the start value.  This function is\n",
      "        intended specifically for use with numeric values and may reject\n",
      "        non-numeric types.\n",
      "    \n",
      "    radians(x, /)\n",
      "        Convert angle x from degrees to radians.\n",
      "    \n",
      "    remainder(x, y, /)\n",
      "        Difference between x and the closest integer multiple of y.\n",
      "        \n",
      "        Return x - n*y where n*y is the closest integer multiple of y.\n",
      "        In the case where x is exactly halfway between two multiples of\n",
      "        y, the nearest even value of n is used. The result is always exact.\n",
      "    \n",
      "    sin(x, /)\n",
      "        Return the sine of x (measured in radians).\n",
      "    \n",
      "    sinh(x, /)\n",
      "        Return the hyperbolic sine of x.\n",
      "    \n",
      "    sqrt(x, /)\n",
      "        Return the square root of x.\n",
      "    \n",
      "    tan(x, /)\n",
      "        Return the tangent of x (measured in radians).\n",
      "    \n",
      "    tanh(x, /)\n",
      "        Return the hyperbolic tangent of x.\n",
      "    \n",
      "    trunc(x, /)\n",
      "        Truncates the Real x to the nearest Integral toward 0.\n",
      "        \n",
      "        Uses the __trunc__ magic method.\n",
      "    \n",
      "    ulp(x, /)\n",
      "        Return the value of the least significant bit of the float x.\n",
      "\n",
      "DATA\n",
      "    e = 2.718281828459045\n",
      "    inf = inf\n",
      "    nan = nan\n",
      "    pi = 3.141592653589793\n",
      "    tau = 6.283185307179586\n",
      "\n",
      "FILE\n",
      "    (built-in)\n",
      "\n",
      "\n"
     ]
    }
   ],
   "source": [
    "help(math)"
   ]
  },
  {
   "cell_type": "code",
   "execution_count": 86,
   "id": "fdfda054-5cdb-403e-9d3b-1ed35d7eb114",
   "metadata": {},
   "outputs": [
    {
     "data": {
      "text/plain": [
       "4.795831523312719"
      ]
     },
     "execution_count": 86,
     "metadata": {},
     "output_type": "execute_result"
    }
   ],
   "source": [
    "math.sqrt(23)"
   ]
  },
  {
   "cell_type": "code",
   "execution_count": 87,
   "id": "3b7fe27f-3c54-4b72-9b93-cf3869b2f030",
   "metadata": {},
   "outputs": [
    {
     "data": {
      "text/plain": [
       "-0.5440211108893698"
      ]
     },
     "execution_count": 87,
     "metadata": {},
     "output_type": "execute_result"
    }
   ],
   "source": [
    "math.sin(10)"
   ]
  },
  {
   "cell_type": "code",
   "execution_count": 88,
   "id": "94edf384-3214-4a92-ad59-6596676296fe",
   "metadata": {},
   "outputs": [
    {
     "data": {
      "text/plain": [
       "120"
      ]
     },
     "execution_count": 88,
     "metadata": {},
     "output_type": "execute_result"
    }
   ],
   "source": [
    "math.factorial(5)"
   ]
  },
  {
   "cell_type": "code",
   "execution_count": 89,
   "id": "22880dfd-420d-43a0-bfab-424997e2fbe8",
   "metadata": {},
   "outputs": [
    {
     "data": {
      "text/plain": [
       "3.141592653589793"
      ]
     },
     "execution_count": 89,
     "metadata": {},
     "output_type": "execute_result"
    }
   ],
   "source": [
    "math.pi"
   ]
  },
  {
   "cell_type": "code",
   "execution_count": 90,
   "id": "195c81eb-3881-475a-8554-6410b2eb0bab",
   "metadata": {},
   "outputs": [],
   "source": [
    "import math as m"
   ]
  },
  {
   "cell_type": "code",
   "execution_count": 91,
   "id": "472dc4aa-eded-4710-aed3-372044789eba",
   "metadata": {},
   "outputs": [
    {
     "data": {
      "text/plain": [
       "-0.5440211108893698"
      ]
     },
     "execution_count": 91,
     "metadata": {},
     "output_type": "execute_result"
    }
   ],
   "source": [
    "m.sin(10)"
   ]
  },
  {
   "cell_type": "code",
   "execution_count": 92,
   "id": "ccf58123-82d4-463c-87a0-c4937ee09e44",
   "metadata": {},
   "outputs": [
    {
     "data": {
      "text/plain": [
       "3.141592653589793"
      ]
     },
     "execution_count": 92,
     "metadata": {},
     "output_type": "execute_result"
    }
   ],
   "source": [
    "m.pi"
   ]
  },
  {
   "cell_type": "code",
   "execution_count": 93,
   "id": "4e14ea05-21b2-477d-98bc-52014be29260",
   "metadata": {},
   "outputs": [
    {
     "data": {
      "text/plain": [
       "1.0791812460476249"
      ]
     },
     "execution_count": 93,
     "metadata": {},
     "output_type": "execute_result"
    }
   ],
   "source": [
    "m.log10(12)"
   ]
  },
  {
   "cell_type": "code",
   "execution_count": 94,
   "id": "04070411-8c79-4de4-ba1b-58e9aedc6018",
   "metadata": {},
   "outputs": [],
   "source": [
    "from math import sqrt, pi"
   ]
  },
  {
   "cell_type": "code",
   "execution_count": 95,
   "id": "f6bc30de-8046-4fce-b86b-317ce3cf20a8",
   "metadata": {},
   "outputs": [
    {
     "data": {
      "text/plain": [
       "3.4641016151377544"
      ]
     },
     "execution_count": 95,
     "metadata": {},
     "output_type": "execute_result"
    }
   ],
   "source": [
    "sqrt(12)"
   ]
  },
  {
   "cell_type": "code",
   "execution_count": 96,
   "id": "ee1e2d3d-5658-4114-bc68-29bfba38aac5",
   "metadata": {},
   "outputs": [
    {
     "data": {
      "text/plain": [
       "3.141592653589793"
      ]
     },
     "execution_count": 96,
     "metadata": {},
     "output_type": "execute_result"
    }
   ],
   "source": [
    "pi"
   ]
  },
  {
   "cell_type": "code",
   "execution_count": 97,
   "id": "8adf3869-60e6-4ec8-97fb-dde7de6ef6dc",
   "metadata": {},
   "outputs": [
    {
     "ename": "NameError",
     "evalue": "name 'sin' is not defined",
     "output_type": "error",
     "traceback": [
      "\u001b[1;31m---------------------------------------------------------------------------\u001b[0m",
      "\u001b[1;31mNameError\u001b[0m                                 Traceback (most recent call last)",
      "Cell \u001b[1;32mIn[97], line 1\u001b[0m\n\u001b[1;32m----> 1\u001b[0m sin(\u001b[38;5;241m10\u001b[39m)\n",
      "\u001b[1;31mNameError\u001b[0m: name 'sin' is not defined"
     ]
    }
   ],
   "source": [
    "sin(10)"
   ]
  },
  {
   "cell_type": "code",
   "execution_count": null,
   "id": "2a2dd682-bc28-48c6-83c7-035210c40a60",
   "metadata": {},
   "outputs": [],
   "source": []
  }
 ],
 "metadata": {
  "kernelspec": {
   "display_name": "Python 3 (ipykernel)",
   "language": "python",
   "name": "python3"
  },
  "language_info": {
   "codemirror_mode": {
    "name": "ipython",
    "version": 3
   },
   "file_extension": ".py",
   "mimetype": "text/x-python",
   "name": "python",
   "nbconvert_exporter": "python",
   "pygments_lexer": "ipython3",
   "version": "3.11.7"
  }
 },
 "nbformat": 4,
 "nbformat_minor": 5
}
