{
 "cells": [
  {
   "cell_type": "code",
   "execution_count": 1,
   "id": "cb4babfc-8b8f-4388-8e18-e05eaf2e0dbf",
   "metadata": {},
   "outputs": [],
   "source": [
    "import cv2\n",
    "import matplotlib.pyplot as plt\n",
    "import numpy as np\n"
   ]
  },
  {
   "cell_type": "code",
   "execution_count": 10,
   "id": "586f8f0e-fa29-458d-b5c0-5e4a40f371e2",
   "metadata": {},
   "outputs": [],
   "source": [
    "#Load the image\n",
    "img = cv2.imread('images/lenna.png')\n",
    "# Define shearing factors (adjust as needed)\n",
    "shear_x = 0.25 # shear along x-ais\n",
    "shear_y = 0\n",
    "\n",
    "#create Transformation Matrix\n",
    "M = np.array([[1,shear_x,0],[shear_y,1,0],[0,0,1]])"
   ]
  },
  {
   "cell_type": "code",
   "execution_count": 11,
   "id": "58a0246b-7a50-4989-b807-bd97833f77be",
   "metadata": {},
   "outputs": [],
   "source": [
    "rows,cols, _ = img.shape\n",
    "T = np.float32([[1,0,0],[0,1,50]])\n",
    "\n",
    "# We use warpAffine to transform the image using the matrix, T\n",
    "\n",
    "img_translation  =cv2.warpAffine(img, T, (int(cols*1.5), int(rows*1.5)))\n",
    "sheared_img = cv2.warpPerspective(img_translation, M, (int(cols*1.5), int(rows*1.5)))\n",
    "cv2.imshow('img', sheared_img)\n",
    "cv2.waitKey(0)\n",
    "cv2.destroyAllWindows()"
   ]
  },
  {
   "cell_type": "code",
   "execution_count": null,
   "id": "d47a81f3-397e-4080-966b-89f6a4deebb6",
   "metadata": {},
   "outputs": [],
   "source": []
  }
 ],
 "metadata": {
  "kernelspec": {
   "display_name": "Python 3 (ipykernel)",
   "language": "python",
   "name": "python3"
  },
  "language_info": {
   "codemirror_mode": {
    "name": "ipython",
    "version": 3
   },
   "file_extension": ".py",
   "mimetype": "text/x-python",
   "name": "python",
   "nbconvert_exporter": "python",
   "pygments_lexer": "ipython3",
   "version": "3.11.7"
  }
 },
 "nbformat": 4,
 "nbformat_minor": 5
}
