{
 "cells": [
  {
   "cell_type": "code",
   "execution_count": 1,
   "id": "af60fdeb-01e4-4cac-b9cd-39e3c09d052c",
   "metadata": {},
   "outputs": [],
   "source": [
    "import cv2\n",
    "import numpy as np\n",
    "import matplotlib.pyplot as plt"
   ]
  },
  {
   "cell_type": "code",
   "execution_count": 13,
   "id": "1eb987e6-affd-4ad0-b24d-cf8af1482d0d",
   "metadata": {},
   "outputs": [],
   "source": [
    "image = cv2.imread('images/lenna.png')\n",
    "# Store height and width of the image\n",
    "height, width = image.shape[:2]\n",
    "quarter_height, quarter_width = height/4, width/4\n",
    "T = np.float32([[1,0,quarter_width], [0,1,quarter_height]])\n",
    "# we use warpAffine to transform the image using the matrix, T\n",
    "img_translation= cv2.warpAffine(image, T, (width,height))\n"
   ]
  },
  {
   "cell_type": "code",
   "execution_count": 14,
   "id": "578244a8-43d5-4e14-bbe3-4399f243f7a3",
   "metadata": {},
   "outputs": [
    {
     "data": {
      "text/plain": [
       "512"
      ]
     },
     "execution_count": 14,
     "metadata": {},
     "output_type": "execute_result"
    }
   ],
   "source": [
    "height"
   ]
  },
  {
   "cell_type": "code",
   "execution_count": 8,
   "id": "132293b5-e37f-4a89-8da9-531ce0b12e4e",
   "metadata": {},
   "outputs": [],
   "source": [
    "cv2.imshow('Original Image', image)\n",
    "cv2.imshow('Translated image',img_translation)\n",
    "cv2.waitKey(0)\n",
    "cv2.destroyAllWindows()"
   ]
  },
  {
   "cell_type": "code",
   "execution_count": null,
   "id": "71793667-043c-44c5-8854-ef92590f9b16",
   "metadata": {},
   "outputs": [],
   "source": [
    "image = cv2.imread('images/lenna.png')\n",
    "# Store height and width of the image\n",
    "height, width = image.shape[:2]\n",
    "#quarter_height, quarter_width = height/4, width/4\n",
    "T = np.float32([[1,0,-100], [0,1,-100]])\n",
    "# we use warpAffine to transform the image using the matrix, T\n",
    "img_translation= cv2.warpAffine(image, T, (width,height))\n"
   ]
  },
  {
   "cell_type": "code",
   "execution_count": null,
   "id": "78772c87-797c-4fd8-bd9a-258748998403",
   "metadata": {},
   "outputs": [],
   "source": [
    "cv2.imshow('Original Image', image)\n",
    "cv2.imshow('Translated image',img_translation)\n",
    "cv2.waitKey(0)\n",
    "cv2.destroyAllWindows()"
   ]
  },
  {
   "cell_type": "code",
   "execution_count": null,
   "id": "3f3777b5-a39b-42c6-906a-efa42e4b8323",
   "metadata": {},
   "outputs": [],
   "source": [
    "image = cv2.imread('images/lenna.png')\n",
    "# Store height and width of the image\n",
    "height, width = image.shape[:2]\n",
    "#quarter_height, quarter_width = height/4, width/4\n",
    "T = np.float32([[1,0,40], [0,1,100]])\n",
    "# we use warpAffine to transform the image using the matrix, T\n",
    "img_translation= cv2.warpAffine(image, T, (width + 100,height + 100))"
   ]
  },
  {
   "cell_type": "code",
   "execution_count": null,
   "id": "34163b6a-9d44-4bd5-89fc-dbcc94d62ec3",
   "metadata": {},
   "outputs": [],
   "source": [
    "cv2.imshow('Original Image', image)\n",
    "cv2.imshow('Translated image',img_translation)\n",
    "cv2.waitKey(0)\n",
    "cv2.destroyAllWindows()"
   ]
  },
  {
   "cell_type": "code",
   "execution_count": null,
   "id": "cfbeb8ed-4a32-4db1-9eff-af35645bf719",
   "metadata": {},
   "outputs": [],
   "source": []
  }
 ],
 "metadata": {
  "kernelspec": {
   "display_name": "Python 3 (ipykernel)",
   "language": "python",
   "name": "python3"
  },
  "language_info": {
   "codemirror_mode": {
    "name": "ipython",
    "version": 3
   },
   "file_extension": ".py",
   "mimetype": "text/x-python",
   "name": "python",
   "nbconvert_exporter": "python",
   "pygments_lexer": "ipython3",
   "version": "3.11.7"
  }
 },
 "nbformat": 4,
 "nbformat_minor": 5
}
