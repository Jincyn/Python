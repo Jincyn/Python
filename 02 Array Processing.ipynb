{
 "cells": [
  {
   "cell_type": "code",
   "execution_count": 1,
   "id": "9ee68ce2-6f19-4b4b-a877-3e66d5bede4e",
   "metadata": {},
   "outputs": [],
   "source": [
    "import numpy as np"
   ]
  },
  {
   "cell_type": "code",
   "execution_count": 2,
   "id": "0ea9159b-7d2e-4916-ae47-401bf1c395a3",
   "metadata": {},
   "outputs": [],
   "source": [
    "##### Create the Array"
   ]
  },
  {
   "cell_type": "code",
   "execution_count": 3,
   "id": "cee8986d-69bb-4a5a-8149-a732928868a3",
   "metadata": {},
   "outputs": [],
   "source": [
    "x = np.array([12,34,5,6,78,])"
   ]
  },
  {
   "cell_type": "code",
   "execution_count": 4,
   "id": "e8ff332b-453e-4fc7-bb38-eea2b7e19c59",
   "metadata": {},
   "outputs": [
    {
     "name": "stdout",
     "output_type": "stream",
     "text": [
      "[12 34  5  6 78]\n"
     ]
    }
   ],
   "source": [
    "print(x)"
   ]
  },
  {
   "cell_type": "code",
   "execution_count": 5,
   "id": "fafd814b-4546-4f08-a58f-51fd329061cb",
   "metadata": {},
   "outputs": [
    {
     "data": {
      "text/plain": [
       "numpy.ndarray"
      ]
     },
     "execution_count": 5,
     "metadata": {},
     "output_type": "execute_result"
    }
   ],
   "source": [
    "type(x)"
   ]
  },
  {
   "cell_type": "code",
   "execution_count": 6,
   "id": "6b751aa0-ad51-47e8-9158-55e4aa1c3f83",
   "metadata": {},
   "outputs": [
    {
     "data": {
      "text/plain": [
       "1"
      ]
     },
     "execution_count": 6,
     "metadata": {},
     "output_type": "execute_result"
    }
   ],
   "source": [
    "x.ndim"
   ]
  },
  {
   "cell_type": "code",
   "execution_count": 7,
   "id": "0b0e9203-d8a0-4251-8e48-593cbc1d5f42",
   "metadata": {},
   "outputs": [
    {
     "data": {
      "text/plain": [
       "array([12, 34,  5,  6, 78])"
      ]
     },
     "execution_count": 7,
     "metadata": {},
     "output_type": "execute_result"
    }
   ],
   "source": [
    "x"
   ]
  },
  {
   "cell_type": "code",
   "execution_count": 8,
   "id": "cfca40a4-6cae-490c-97d3-14144e1340f6",
   "metadata": {},
   "outputs": [
    {
     "data": {
      "text/plain": [
       "dtype('int32')"
      ]
     },
     "execution_count": 8,
     "metadata": {},
     "output_type": "execute_result"
    }
   ],
   "source": [
    "x.dtype"
   ]
  },
  {
   "cell_type": "code",
   "execution_count": 11,
   "id": "4cb10fa4-48ec-4532-9af7-0adc2ee9a621",
   "metadata": {},
   "outputs": [],
   "source": [
    "x = np.array([10,20,30,40,71,60],dtype=np.int8)"
   ]
  },
  {
   "cell_type": "code",
   "execution_count": 12,
   "id": "ba1d2120-751e-490b-8dcd-3d6e4b04e3b2",
   "metadata": {},
   "outputs": [
    {
     "name": "stderr",
     "output_type": "stream",
     "text": [
      "C:\\Users\\rajesh\\AppData\\Local\\Temp\\ipykernel_4728\\3874969223.py:1: DeprecationWarning: NumPy will stop allowing conversion of out-of-bound Python integers to integer arrays.  The conversion of 200 to int8 will fail in the future.\n",
      "For the old behavior, usually:\n",
      "    np.array(value).astype(dtype)\n",
      "will give the desired result (the cast overflows).\n",
      "  x[0] = 200\n"
     ]
    }
   ],
   "source": [
    "x[0] = 200"
   ]
  },
  {
   "cell_type": "code",
   "execution_count": 13,
   "id": "ba7a9669-a65a-415b-8286-56f1ff46a576",
   "metadata": {},
   "outputs": [
    {
     "data": {
      "text/plain": [
       "array([-56,  20,  30,  40,  71,  60], dtype=int8)"
      ]
     },
     "execution_count": 13,
     "metadata": {},
     "output_type": "execute_result"
    }
   ],
   "source": [
    "x"
   ]
  },
  {
   "cell_type": "code",
   "execution_count": 16,
   "id": "e417546d-1346-41c7-aae8-c71419cf077c",
   "metadata": {},
   "outputs": [],
   "source": [
    "x = np.array([10,20,30,40,71,60],dtype=np.uint8)"
   ]
  },
  {
   "cell_type": "code",
   "execution_count": 17,
   "id": "761d5db3-818b-4175-b387-80f205859051",
   "metadata": {},
   "outputs": [],
   "source": [
    "x[0] = 200"
   ]
  },
  {
   "cell_type": "code",
   "execution_count": 18,
   "id": "809ff916-84ae-4aff-9d1a-ba8a05a2d1df",
   "metadata": {},
   "outputs": [
    {
     "data": {
      "text/plain": [
       "array([200,  20,  30,  40,  71,  60], dtype=uint8)"
      ]
     },
     "execution_count": 18,
     "metadata": {},
     "output_type": "execute_result"
    }
   ],
   "source": [
    "x"
   ]
  },
  {
   "cell_type": "code",
   "execution_count": 19,
   "id": "2b966bf7-2f82-4882-9d57-a5b808723f6d",
   "metadata": {},
   "outputs": [
    {
     "data": {
      "text/plain": [
       "6"
      ]
     },
     "execution_count": 19,
     "metadata": {},
     "output_type": "execute_result"
    }
   ],
   "source": [
    "x.size"
   ]
  },
  {
   "cell_type": "code",
   "execution_count": 20,
   "id": "513a252d-262a-498c-85df-9b025e2517c3",
   "metadata": {},
   "outputs": [
    {
     "data": {
      "text/plain": [
       "(6,)"
      ]
     },
     "execution_count": 20,
     "metadata": {},
     "output_type": "execute_result"
    }
   ],
   "source": [
    "x.shape"
   ]
  },
  {
   "cell_type": "code",
   "execution_count": 21,
   "id": "80464b72-e106-48f4-adf4-633ee690c7e2",
   "metadata": {},
   "outputs": [
    {
     "data": {
      "text/plain": [
       "20"
      ]
     },
     "execution_count": 21,
     "metadata": {},
     "output_type": "execute_result"
    }
   ],
   "source": [
    "x.min()"
   ]
  },
  {
   "cell_type": "code",
   "execution_count": 22,
   "id": "d7be5547-e899-44fc-9c2a-48e706d054e9",
   "metadata": {},
   "outputs": [
    {
     "data": {
      "text/plain": [
       "70.16666666666667"
      ]
     },
     "execution_count": 22,
     "metadata": {},
     "output_type": "execute_result"
    }
   ],
   "source": [
    "x.mean()"
   ]
  },
  {
   "cell_type": "code",
   "execution_count": 23,
   "id": "b8cc88d4-ceeb-4851-b69c-bd56ab736eae",
   "metadata": {},
   "outputs": [],
   "source": [
    "x.sort()"
   ]
  },
  {
   "cell_type": "code",
   "execution_count": 24,
   "id": "8d8b4d6b-848b-40f9-99d7-35d2c5e98017",
   "metadata": {},
   "outputs": [
    {
     "data": {
      "text/plain": [
       "array([ 20,  30,  40,  60,  71, 200], dtype=uint8)"
      ]
     },
     "execution_count": 24,
     "metadata": {},
     "output_type": "execute_result"
    }
   ],
   "source": [
    "x"
   ]
  },
  {
   "cell_type": "code",
   "execution_count": 25,
   "id": "e7463bc3-4ca0-4e04-b0c8-b9aa741c4c66",
   "metadata": {},
   "outputs": [
    {
     "data": {
      "text/plain": [
       "60.55415390834517"
      ]
     },
     "execution_count": 25,
     "metadata": {},
     "output_type": "execute_result"
    }
   ],
   "source": [
    "x.std()"
   ]
  },
  {
   "cell_type": "code",
   "execution_count": 26,
   "id": "6b93c1ae-63de-4d68-812d-59d331d6d635",
   "metadata": {},
   "outputs": [
    {
     "data": {
      "text/plain": [
       "421"
      ]
     },
     "execution_count": 26,
     "metadata": {},
     "output_type": "execute_result"
    }
   ],
   "source": [
    "x.sum()"
   ]
  },
  {
   "cell_type": "code",
   "execution_count": 28,
   "id": "77a513ba-f47b-48dc-aa85-ef853081f1f1",
   "metadata": {},
   "outputs": [
    {
     "data": {
      "text/plain": [
       "array([ 20,  30,  40,  60,  71, 200], dtype=uint8)"
      ]
     },
     "execution_count": 28,
     "metadata": {},
     "output_type": "execute_result"
    }
   ],
   "source": [
    "x.transpose()"
   ]
  },
  {
   "cell_type": "code",
   "execution_count": 29,
   "id": "68c45fb1-b43f-4814-8b82-ce3bdebc27e9",
   "metadata": {},
   "outputs": [],
   "source": [
    "y = np.array([67,12,25,23,45.94])"
   ]
  },
  {
   "cell_type": "code",
   "execution_count": 30,
   "id": "daedce93-8935-460a-b0f1-8763933c3c3c",
   "metadata": {},
   "outputs": [
    {
     "data": {
      "text/plain": [
       "array([67.  , 12.  , 25.  , 23.  , 45.94])"
      ]
     },
     "execution_count": 30,
     "metadata": {},
     "output_type": "execute_result"
    }
   ],
   "source": [
    "y"
   ]
  },
  {
   "cell_type": "code",
   "execution_count": 31,
   "id": "e104ebe2-eabe-41d5-b342-1e8f1779d2e5",
   "metadata": {},
   "outputs": [
    {
     "data": {
      "text/plain": [
       "dtype('float64')"
      ]
     },
     "execution_count": 31,
     "metadata": {},
     "output_type": "execute_result"
    }
   ],
   "source": [
    "y.dtype"
   ]
  },
  {
   "cell_type": "code",
   "execution_count": 32,
   "id": "c7e9ead3-96b3-458c-87f9-7d47546df738",
   "metadata": {},
   "outputs": [
    {
     "name": "stdout",
     "output_type": "stream",
     "text": [
      "12.0\n"
     ]
    }
   ],
   "source": [
    "print(y[1])"
   ]
  },
  {
   "cell_type": "code",
   "execution_count": 33,
   "id": "3e05a943-36c6-4ddc-ba31-69966b6e6ada",
   "metadata": {},
   "outputs": [],
   "source": [
    "z = np.array([67,12,25,23,True])"
   ]
  },
  {
   "cell_type": "code",
   "execution_count": 34,
   "id": "b66968f0-5df4-44ae-9420-ce9cf38d88d6",
   "metadata": {},
   "outputs": [
    {
     "data": {
      "text/plain": [
       "array([67, 12, 25, 23,  1])"
      ]
     },
     "execution_count": 34,
     "metadata": {},
     "output_type": "execute_result"
    }
   ],
   "source": [
    "z"
   ]
  },
  {
   "cell_type": "code",
   "execution_count": 35,
   "id": "fcfac1d0-a327-4c0b-9119-8b17d92d72b2",
   "metadata": {},
   "outputs": [],
   "source": [
    "z = np.array([67,12,25,23,False])"
   ]
  },
  {
   "cell_type": "code",
   "execution_count": 36,
   "id": "52182d06-b97e-49b7-af4a-adb583dc6ca5",
   "metadata": {},
   "outputs": [
    {
     "data": {
      "text/plain": [
       "array([67, 12, 25, 23,  0])"
      ]
     },
     "execution_count": 36,
     "metadata": {},
     "output_type": "execute_result"
    }
   ],
   "source": [
    "z"
   ]
  },
  {
   "cell_type": "code",
   "execution_count": 37,
   "id": "dc23066c-28c2-4d6f-8bcb-ccde5270ea55",
   "metadata": {},
   "outputs": [],
   "source": [
    "z = np.array([67,12,25,23,'x'])"
   ]
  },
  {
   "cell_type": "code",
   "execution_count": 38,
   "id": "4501ad87-5884-4243-b986-c108ccc01f27",
   "metadata": {},
   "outputs": [
    {
     "data": {
      "text/plain": [
       "array(['67', '12', '25', '23', 'x'], dtype='<U11')"
      ]
     },
     "execution_count": 38,
     "metadata": {},
     "output_type": "execute_result"
    }
   ],
   "source": [
    "z"
   ]
  },
  {
   "cell_type": "code",
   "execution_count": 40,
   "id": "eac0f4ed-c6dc-46f8-96ef-1e2447821bc0",
   "metadata": {},
   "outputs": [],
   "source": [
    "z = np.zeros(10,dtype = np.int16)"
   ]
  },
  {
   "cell_type": "code",
   "execution_count": 41,
   "id": "e8104d53-0dea-4b3d-96f3-4dedcc371438",
   "metadata": {},
   "outputs": [
    {
     "data": {
      "text/plain": [
       "array([0, 0, 0, 0, 0, 0, 0, 0, 0, 0], dtype=int16)"
      ]
     },
     "execution_count": 41,
     "metadata": {},
     "output_type": "execute_result"
    }
   ],
   "source": [
    "z"
   ]
  },
  {
   "cell_type": "code",
   "execution_count": 42,
   "id": "47052cef-c33c-439c-9675-09805c098427",
   "metadata": {},
   "outputs": [],
   "source": [
    "y = np.ones(10,dtype = np.int16)"
   ]
  },
  {
   "cell_type": "code",
   "execution_count": 43,
   "id": "69737b7a-0f3a-4f5b-bb0c-1967af2d26e9",
   "metadata": {},
   "outputs": [
    {
     "data": {
      "text/plain": [
       "array([1, 1, 1, 1, 1, 1, 1, 1, 1, 1], dtype=int16)"
      ]
     },
     "execution_count": 43,
     "metadata": {},
     "output_type": "execute_result"
    }
   ],
   "source": [
    "y"
   ]
  },
  {
   "cell_type": "code",
   "execution_count": 45,
   "id": "97624720-8a06-4904-ac3f-2e753c32f054",
   "metadata": {},
   "outputs": [
    {
     "data": {
      "text/plain": [
       "array([4, 5, 6, 7, 8, 9])"
      ]
     },
     "execution_count": 45,
     "metadata": {},
     "output_type": "execute_result"
    }
   ],
   "source": [
    "np.arange(4,10)"
   ]
  },
  {
   "cell_type": "code",
   "execution_count": 46,
   "id": "3bc1fcc9-3dae-4c30-9181-bca4b11cbf56",
   "metadata": {},
   "outputs": [
    {
     "data": {
      "text/plain": [
       "array([ 2,  5,  8, 11, 14, 17])"
      ]
     },
     "execution_count": 46,
     "metadata": {},
     "output_type": "execute_result"
    }
   ],
   "source": [
    "np.arange(2,20,3)"
   ]
  },
  {
   "cell_type": "code",
   "execution_count": 47,
   "id": "5147776d-9ece-4567-a9c8-a4f043b8b318",
   "metadata": {},
   "outputs": [
    {
     "data": {
      "text/plain": [
       "array([20, 17, 14, 11,  8,  5,  2])"
      ]
     },
     "execution_count": 47,
     "metadata": {},
     "output_type": "execute_result"
    }
   ],
   "source": [
    "np.arange(20,1,-3)"
   ]
  },
  {
   "cell_type": "code",
   "execution_count": 48,
   "id": "54f5d3fc-759a-4fa0-8f45-5643eba7569e",
   "metadata": {},
   "outputs": [
    {
     "data": {
      "text/plain": [
       "array([0.  , 0.33, 0.66, 0.99, 1.32, 1.65, 1.98, 2.31, 2.64, 2.97, 3.3 ,\n",
       "       3.63, 3.96, 4.29, 4.62, 4.95, 5.28, 5.61, 5.94, 6.27, 6.6 , 6.93,\n",
       "       7.26, 7.59, 7.92, 8.25, 8.58, 8.91, 9.24, 9.57, 9.9 ])"
      ]
     },
     "execution_count": 48,
     "metadata": {},
     "output_type": "execute_result"
    }
   ],
   "source": [
    "np.arange(0,10,0.33)"
   ]
  },
  {
   "cell_type": "code",
   "execution_count": 49,
   "id": "18b28fa2-3559-4daa-8359-a1a7a66e1a3a",
   "metadata": {},
   "outputs": [
    {
     "data": {
      "text/plain": [
       "array([ 1. ,  3.5,  6. ,  8.5, 11. ])"
      ]
     },
     "execution_count": 49,
     "metadata": {},
     "output_type": "execute_result"
    }
   ],
   "source": [
    "np.linspace(1,11,5)"
   ]
  },
  {
   "cell_type": "code",
   "execution_count": 55,
   "id": "918684e4-04d4-4ff3-8b41-87c878d0d3a0",
   "metadata": {},
   "outputs": [],
   "source": [
    "##### Array Operations"
   ]
  },
  {
   "cell_type": "code",
   "execution_count": 51,
   "id": "07b60b3d-4118-44df-b216-fbfa557f1a40",
   "metadata": {},
   "outputs": [],
   "source": [
    "num1 = np.array([56,12,56,47,89,23])\n",
    "num2 = np.array([56,23,36,47,89,23])"
   ]
  },
  {
   "cell_type": "code",
   "execution_count": 52,
   "id": "181a81c6-e3ba-43ee-9850-36a7bdee4f1e",
   "metadata": {},
   "outputs": [
    {
     "data": {
      "text/plain": [
       "array([66, 22, 66, 57, 99, 33])"
      ]
     },
     "execution_count": 52,
     "metadata": {},
     "output_type": "execute_result"
    }
   ],
   "source": [
    "num1 + 10"
   ]
  },
  {
   "cell_type": "code",
   "execution_count": 53,
   "id": "9121f940-4e89-48b1-b918-3b362f3f2231",
   "metadata": {},
   "outputs": [
    {
     "data": {
      "text/plain": [
       "array([11.2,  4.6,  7.2,  9.4, 17.8,  4.6])"
      ]
     },
     "execution_count": 53,
     "metadata": {},
     "output_type": "execute_result"
    }
   ],
   "source": [
    "num2 /5"
   ]
  },
  {
   "cell_type": "code",
   "execution_count": 54,
   "id": "439fde31-3af2-4187-87b2-15c5e5101bb9",
   "metadata": {},
   "outputs": [
    {
     "data": {
      "text/plain": [
       "array([224,  48, 224, 188, 356,  92])"
      ]
     },
     "execution_count": 54,
     "metadata": {},
     "output_type": "execute_result"
    }
   ],
   "source": [
    "num1 *4"
   ]
  },
  {
   "cell_type": "code",
   "execution_count": 56,
   "id": "35d6db25-ab18-4937-90b3-5fa1b712ddce",
   "metadata": {},
   "outputs": [
    {
     "data": {
      "text/plain": [
       "[56, 12, 56, 47, 89, 23, 56, 12, 56, 47, 89, 23, 56, 12, 56, 47, 89, 23]"
      ]
     },
     "execution_count": 56,
     "metadata": {},
     "output_type": "execute_result"
    }
   ],
   "source": [
    "[56,12,56,47,89,23] * 3"
   ]
  },
  {
   "cell_type": "code",
   "execution_count": 57,
   "id": "42440112-e16c-47ff-b09c-2c4d058cc9ea",
   "metadata": {},
   "outputs": [
    {
     "data": {
      "text/plain": [
       "array([112,  35,  92,  94, 178,  46])"
      ]
     },
     "execution_count": 57,
     "metadata": {},
     "output_type": "execute_result"
    }
   ],
   "source": [
    "num1 +num2"
   ]
  },
  {
   "cell_type": "code",
   "execution_count": 58,
   "id": "a4a0aa1e-a1cf-4127-ae75-8a131ad36755",
   "metadata": {},
   "outputs": [
    {
     "data": {
      "text/plain": [
       "array([  0, -11,  20,   0,   0,   0])"
      ]
     },
     "execution_count": 58,
     "metadata": {},
     "output_type": "execute_result"
    }
   ],
   "source": [
    "num1 - num2"
   ]
  },
  {
   "cell_type": "code",
   "execution_count": 59,
   "id": "720bdd35-ab56-464d-8e5d-ba82fe4cf4c9",
   "metadata": {},
   "outputs": [],
   "source": [
    "##### Matrix"
   ]
  },
  {
   "cell_type": "code",
   "execution_count": 61,
   "id": "4490c593-6cff-4236-a9ad-ca0a902f4eb1",
   "metadata": {},
   "outputs": [],
   "source": [
    "m = np.array([[4,6,7],\n",
    "              [1,2,3],\n",
    "              [8,0,2],\n",
    "              [9,3,5]])\n",
    "             "
   ]
  },
  {
   "cell_type": "code",
   "execution_count": 62,
   "id": "73780195-8598-41df-891a-94f2dc7fb13d",
   "metadata": {},
   "outputs": [
    {
     "data": {
      "text/plain": [
       "array([[4, 6, 7],\n",
       "       [1, 2, 3],\n",
       "       [8, 0, 2],\n",
       "       [9, 3, 5]])"
      ]
     },
     "execution_count": 62,
     "metadata": {},
     "output_type": "execute_result"
    }
   ],
   "source": [
    "m"
   ]
  },
  {
   "cell_type": "code",
   "execution_count": 63,
   "id": "a0c35058-356b-4b84-a109-676193f56b6f",
   "metadata": {},
   "outputs": [
    {
     "data": {
      "text/plain": [
       "dtype('int32')"
      ]
     },
     "execution_count": 63,
     "metadata": {},
     "output_type": "execute_result"
    }
   ],
   "source": [
    "m.dtype"
   ]
  },
  {
   "cell_type": "code",
   "execution_count": 64,
   "id": "69583a3e-9a88-4e85-9e37-5cdcdd6503c6",
   "metadata": {},
   "outputs": [
    {
     "data": {
      "text/plain": [
       "(4, 3)"
      ]
     },
     "execution_count": 64,
     "metadata": {},
     "output_type": "execute_result"
    }
   ],
   "source": [
    "m.shape"
   ]
  },
  {
   "cell_type": "code",
   "execution_count": 65,
   "id": "b17ac41a-0841-4be7-bfa3-f1ad487a6395",
   "metadata": {},
   "outputs": [
    {
     "data": {
      "text/plain": [
       "12"
      ]
     },
     "execution_count": 65,
     "metadata": {},
     "output_type": "execute_result"
    }
   ],
   "source": [
    "m.size"
   ]
  },
  {
   "cell_type": "code",
   "execution_count": 66,
   "id": "359793ab-dfd8-421d-a9a6-def891860ca3",
   "metadata": {},
   "outputs": [
    {
     "data": {
      "text/plain": [
       "2"
      ]
     },
     "execution_count": 66,
     "metadata": {},
     "output_type": "execute_result"
    }
   ],
   "source": [
    "m.ndim"
   ]
  },
  {
   "cell_type": "code",
   "execution_count": 68,
   "id": "4d4e9592-0c3b-4630-8be2-a90f6aac9c7c",
   "metadata": {},
   "outputs": [
    {
     "data": {
      "text/plain": [
       "2"
      ]
     },
     "execution_count": 68,
     "metadata": {},
     "output_type": "execute_result"
    }
   ],
   "source": [
    "m[1][1]"
   ]
  },
  {
   "cell_type": "code",
   "execution_count": 69,
   "id": "2cbd4548-d43a-4c19-95ba-fd190ac0bb65",
   "metadata": {},
   "outputs": [
    {
     "data": {
      "text/plain": [
       "2"
      ]
     },
     "execution_count": 69,
     "metadata": {},
     "output_type": "execute_result"
    }
   ],
   "source": [
    "m[1,1]"
   ]
  },
  {
   "cell_type": "code",
   "execution_count": 72,
   "id": "3ea3c4ec-f881-483d-acfa-03b1498a54a1",
   "metadata": {},
   "outputs": [
    {
     "data": {
      "text/plain": [
       "array([[2, 3],\n",
       "       [0, 2]])"
      ]
     },
     "execution_count": 72,
     "metadata": {},
     "output_type": "execute_result"
    }
   ],
   "source": [
    "m[1:3, 1:3]"
   ]
  },
  {
   "cell_type": "markdown",
   "id": "45c64e1b-b74a-4ce2-ae61-db0ab629f501",
   "metadata": {},
   "source": [
    "m1 = m.reshape(1,2)"
   ]
  },
  {
   "cell_type": "code",
   "execution_count": 74,
   "id": "33d209ff-ee3b-4846-8295-49dc46661403",
   "metadata": {},
   "outputs": [],
   "source": [
    "m1 = m.reshape(6,2)"
   ]
  },
  {
   "cell_type": "code",
   "execution_count": 75,
   "id": "1901bb2c-8468-426f-89a4-ca7c9acb4406",
   "metadata": {},
   "outputs": [
    {
     "data": {
      "text/plain": [
       "array([[4, 6],\n",
       "       [7, 1],\n",
       "       [2, 3],\n",
       "       [8, 0],\n",
       "       [2, 9],\n",
       "       [3, 5]])"
      ]
     },
     "execution_count": 75,
     "metadata": {},
     "output_type": "execute_result"
    }
   ],
   "source": [
    "m1"
   ]
  },
  {
   "cell_type": "code",
   "execution_count": 76,
   "id": "ec553a09-8e04-4c60-83c8-39138997a93b",
   "metadata": {},
   "outputs": [
    {
     "data": {
      "text/plain": [
       "array([[4, 6, 7, 1, 2, 3],\n",
       "       [8, 0, 2, 9, 3, 5]])"
      ]
     },
     "execution_count": 76,
     "metadata": {},
     "output_type": "execute_result"
    }
   ],
   "source": [
    "m.reshape(2,-1)"
   ]
  },
  {
   "cell_type": "code",
   "execution_count": 77,
   "id": "1f7851e1-52c2-4274-a476-a785fbcf0591",
   "metadata": {},
   "outputs": [
    {
     "data": {
      "text/plain": [
       "array([[4, 6, 7, 1],\n",
       "       [2, 3, 8, 0],\n",
       "       [2, 9, 3, 5]])"
      ]
     },
     "execution_count": 77,
     "metadata": {},
     "output_type": "execute_result"
    }
   ],
   "source": [
    "m.reshape(-1,4)"
   ]
  },
  {
   "cell_type": "code",
   "execution_count": 79,
   "id": "8738c186-590c-491d-8d0d-83873344ace5",
   "metadata": {},
   "outputs": [
    {
     "data": {
      "text/plain": [
       "array([4, 6, 7, 1, 2, 3, 8, 0, 2, 9, 3, 5])"
      ]
     },
     "execution_count": 79,
     "metadata": {},
     "output_type": "execute_result"
    }
   ],
   "source": [
    "m.reshape(-1)"
   ]
  },
  {
   "cell_type": "code",
   "execution_count": 80,
   "id": "dd748e51-a24c-4fbc-9433-45c53934635a",
   "metadata": {},
   "outputs": [
    {
     "data": {
      "text/plain": [
       "array([4, 6, 7, 1, 2, 3, 8, 0, 2, 9, 3, 5])"
      ]
     },
     "execution_count": 80,
     "metadata": {},
     "output_type": "execute_result"
    }
   ],
   "source": [
    "m.flatten()"
   ]
  },
  {
   "cell_type": "code",
   "execution_count": 81,
   "id": "2fb9e1ba-1e06-48a0-8164-484820e74566",
   "metadata": {},
   "outputs": [
    {
     "data": {
      "text/plain": [
       "array([[4, 1, 8, 9],\n",
       "       [6, 2, 0, 3],\n",
       "       [7, 3, 2, 5]])"
      ]
     },
     "execution_count": 81,
     "metadata": {},
     "output_type": "execute_result"
    }
   ],
   "source": [
    "m.T"
   ]
  },
  {
   "cell_type": "code",
   "execution_count": 82,
   "id": "4603bfa7-bd61-4095-90ca-7b2ee62dd04a",
   "metadata": {},
   "outputs": [
    {
     "data": {
      "text/plain": [
       "array([[4, 6, 7],\n",
       "       [1, 2, 3],\n",
       "       [8, 0, 2],\n",
       "       [9, 3, 5]])"
      ]
     },
     "execution_count": 82,
     "metadata": {},
     "output_type": "execute_result"
    }
   ],
   "source": [
    "m"
   ]
  },
  {
   "cell_type": "code",
   "execution_count": 83,
   "id": "7e641322-6f61-475a-886e-b7fd982eda55",
   "metadata": {},
   "outputs": [
    {
     "data": {
      "text/plain": [
       "0"
      ]
     },
     "execution_count": 83,
     "metadata": {},
     "output_type": "execute_result"
    }
   ],
   "source": [
    "m.min()"
   ]
  },
  {
   "cell_type": "code",
   "execution_count": 84,
   "id": "5164180d-a724-4c0e-8a7c-c7f55ee02527",
   "metadata": {},
   "outputs": [
    {
     "data": {
      "text/plain": [
       "array([4, 1, 0, 3])"
      ]
     },
     "execution_count": 84,
     "metadata": {},
     "output_type": "execute_result"
    }
   ],
   "source": [
    "m.min(axis = 1)"
   ]
  },
  {
   "cell_type": "code",
   "execution_count": 85,
   "id": "2736077d-abba-47d6-a417-9f3630492d3e",
   "metadata": {},
   "outputs": [
    {
     "data": {
      "text/plain": [
       "array([1, 0, 2])"
      ]
     },
     "execution_count": 85,
     "metadata": {},
     "output_type": "execute_result"
    }
   ],
   "source": [
    "m.min(axis = 0)"
   ]
  },
  {
   "cell_type": "code",
   "execution_count": 86,
   "id": "cb7784c3-5166-406f-ac22-d268c17a0e13",
   "metadata": {},
   "outputs": [
    {
     "data": {
      "text/plain": [
       "array([22, 11, 17])"
      ]
     },
     "execution_count": 86,
     "metadata": {},
     "output_type": "execute_result"
    }
   ],
   "source": [
    "m.sum(axis = 0)"
   ]
  },
  {
   "cell_type": "code",
   "execution_count": 87,
   "id": "3448485e-5bd0-4dd2-9e70-a04d6c513eb0",
   "metadata": {},
   "outputs": [
    {
     "data": {
      "text/plain": [
       "array([17,  6, 10, 17])"
      ]
     },
     "execution_count": 87,
     "metadata": {},
     "output_type": "execute_result"
    }
   ],
   "source": [
    "m.sum(axis = 1)"
   ]
  },
  {
   "cell_type": "code",
   "execution_count": 88,
   "id": "a27f31de-5004-45a3-8900-81f926544403",
   "metadata": {},
   "outputs": [
    {
     "data": {
      "text/plain": [
       "50"
      ]
     },
     "execution_count": 88,
     "metadata": {},
     "output_type": "execute_result"
    }
   ],
   "source": [
    "m.sum()"
   ]
  },
  {
   "cell_type": "code",
   "execution_count": 89,
   "id": "a9ce2a2f-c2b9-478e-bc14-39988dcdba58",
   "metadata": {},
   "outputs": [
    {
     "data": {
      "text/plain": [
       "array([1, 1, 1, 1, 1, 1, 1, 1, 1, 1], dtype=int16)"
      ]
     },
     "execution_count": 89,
     "metadata": {},
     "output_type": "execute_result"
    }
   ],
   "source": [
    "y"
   ]
  },
  {
   "cell_type": "code",
   "execution_count": 91,
   "id": "e17a67dd-fc0a-4582-9c14-9f7223b5587d",
   "metadata": {},
   "outputs": [
    {
     "data": {
      "text/plain": [
       "array([[56, 23],\n",
       "       [36, 47],\n",
       "       [89, 23]])"
      ]
     },
     "execution_count": 91,
     "metadata": {},
     "output_type": "execute_result"
    }
   ],
   "source": [
    "num2.reshape(3,2)"
   ]
  },
  {
   "cell_type": "code",
   "execution_count": 92,
   "id": "8f982733-718a-4731-8895-50b01d4d4457",
   "metadata": {},
   "outputs": [
    {
     "data": {
      "text/plain": [
       "9"
      ]
     },
     "execution_count": 92,
     "metadata": {},
     "output_type": "execute_result"
    }
   ],
   "source": [
    "m.argmax()"
   ]
  },
  {
   "cell_type": "code",
   "execution_count": 93,
   "id": "ec413517-475a-472e-ad6a-7004cb1c03bb",
   "metadata": {},
   "outputs": [
    {
     "data": {
      "text/plain": [
       "array([[4, 6, 7],\n",
       "       [1, 2, 3],\n",
       "       [8, 0, 2],\n",
       "       [9, 3, 5]])"
      ]
     },
     "execution_count": 93,
     "metadata": {},
     "output_type": "execute_result"
    }
   ],
   "source": [
    "m"
   ]
  },
  {
   "cell_type": "code",
   "execution_count": 94,
   "id": "1d4d159e-8e89-4934-8862-141d3cfb0941",
   "metadata": {},
   "outputs": [],
   "source": [
    "m = m.astype(np.int16)"
   ]
  },
  {
   "cell_type": "code",
   "execution_count": 95,
   "id": "bbbbfc9d-e3a6-4d71-a3e4-838cb2d90f7f",
   "metadata": {},
   "outputs": [
    {
     "data": {
      "text/plain": [
       "array([[4, 6, 7],\n",
       "       [1, 2, 3],\n",
       "       [8, 0, 2],\n",
       "       [9, 3, 5]], dtype=int16)"
      ]
     },
     "execution_count": 95,
     "metadata": {},
     "output_type": "execute_result"
    }
   ],
   "source": [
    "m"
   ]
  },
  {
   "cell_type": "code",
   "execution_count": 96,
   "id": "c6b14704-04cf-4967-ae60-85d128c63f0f",
   "metadata": {},
   "outputs": [],
   "source": [
    "m = m.astype(np.float16)"
   ]
  },
  {
   "cell_type": "code",
   "execution_count": 97,
   "id": "44d2d580-f565-4543-8c71-10d0393e0c00",
   "metadata": {},
   "outputs": [
    {
     "data": {
      "text/plain": [
       "array([[4., 6., 7.],\n",
       "       [1., 2., 3.],\n",
       "       [8., 0., 2.],\n",
       "       [9., 3., 5.]], dtype=float16)"
      ]
     },
     "execution_count": 97,
     "metadata": {},
     "output_type": "execute_result"
    }
   ],
   "source": [
    "m"
   ]
  },
  {
   "cell_type": "code",
   "execution_count": 98,
   "id": "858e9422-746a-4b6b-984d-f1eca6c55244",
   "metadata": {},
   "outputs": [
    {
     "data": {
      "text/plain": [
       "array([ 20,  30,  40,  60,  71, 200], dtype=uint8)"
      ]
     },
     "execution_count": 98,
     "metadata": {},
     "output_type": "execute_result"
    }
   ],
   "source": [
    "x"
   ]
  },
  {
   "cell_type": "code",
   "execution_count": 99,
   "id": "dd73932e-7cfe-4d3e-916e-abb809cc0ea1",
   "metadata": {},
   "outputs": [
    {
     "data": {
      "text/plain": [
       "2045848336784"
      ]
     },
     "execution_count": 99,
     "metadata": {},
     "output_type": "execute_result"
    }
   ],
   "source": [
    "id(x)"
   ]
  },
  {
   "cell_type": "code",
   "execution_count": 100,
   "id": "9c13a67f-7177-46ca-801b-bf3ae098781c",
   "metadata": {},
   "outputs": [],
   "source": [
    "y = x"
   ]
  },
  {
   "cell_type": "code",
   "execution_count": 101,
   "id": "5efed8d0-298f-4411-bb07-456760d1be88",
   "metadata": {},
   "outputs": [
    {
     "data": {
      "text/plain": [
       "2045848336784"
      ]
     },
     "execution_count": 101,
     "metadata": {},
     "output_type": "execute_result"
    }
   ],
   "source": [
    "id(y)"
   ]
  },
  {
   "cell_type": "code",
   "execution_count": 102,
   "id": "ff6110ba-b019-4524-a182-cea978582575",
   "metadata": {},
   "outputs": [],
   "source": [
    "x[0] = 40"
   ]
  },
  {
   "cell_type": "code",
   "execution_count": 103,
   "id": "96fe8059-1d17-437a-88ce-20630eb5f6f1",
   "metadata": {},
   "outputs": [
    {
     "data": {
      "text/plain": [
       "array([ 40,  30,  40,  60,  71, 200], dtype=uint8)"
      ]
     },
     "execution_count": 103,
     "metadata": {},
     "output_type": "execute_result"
    }
   ],
   "source": [
    "y"
   ]
  },
  {
   "cell_type": "code",
   "execution_count": 104,
   "id": "7c7a790e-6aaa-45e4-8013-286cb6c1f934",
   "metadata": {},
   "outputs": [],
   "source": [
    "y = x.copy()"
   ]
  },
  {
   "cell_type": "code",
   "execution_count": 105,
   "id": "acbcbe2b-fa58-481c-b869-1f2f0d53ec27",
   "metadata": {},
   "outputs": [
    {
     "data": {
      "text/plain": [
       "array([ 40,  30,  40,  60,  71, 200], dtype=uint8)"
      ]
     },
     "execution_count": 105,
     "metadata": {},
     "output_type": "execute_result"
    }
   ],
   "source": [
    "y"
   ]
  },
  {
   "cell_type": "code",
   "execution_count": 106,
   "id": "02ede12a-3232-41a5-9d48-5df971cc52b8",
   "metadata": {},
   "outputs": [],
   "source": [
    "x[0] = 90"
   ]
  },
  {
   "cell_type": "code",
   "execution_count": 107,
   "id": "765f512a-fc07-42d3-b72d-96747603efaf",
   "metadata": {},
   "outputs": [
    {
     "data": {
      "text/plain": [
       "array([ 90,  30,  40,  60,  71, 200], dtype=uint8)"
      ]
     },
     "execution_count": 107,
     "metadata": {},
     "output_type": "execute_result"
    }
   ],
   "source": [
    "x"
   ]
  },
  {
   "cell_type": "code",
   "execution_count": 108,
   "id": "5b383939-5a4d-46fa-bbce-ab7f550128ff",
   "metadata": {},
   "outputs": [
    {
     "data": {
      "text/plain": [
       "array([ 40,  30,  40,  60,  71, 200], dtype=uint8)"
      ]
     },
     "execution_count": 108,
     "metadata": {},
     "output_type": "execute_result"
    }
   ],
   "source": [
    "y"
   ]
  },
  {
   "cell_type": "code",
   "execution_count": 109,
   "id": "884d05df-2f46-43f8-be0a-f2dce66355f9",
   "metadata": {},
   "outputs": [
    {
     "data": {
      "text/plain": [
       "2045848336784"
      ]
     },
     "execution_count": 109,
     "metadata": {},
     "output_type": "execute_result"
    }
   ],
   "source": [
    "id(x)"
   ]
  },
  {
   "cell_type": "code",
   "execution_count": 110,
   "id": "2bf5d8a3-be51-4fb8-b354-52872c81a2e1",
   "metadata": {},
   "outputs": [
    {
     "data": {
      "text/plain": [
       "2045851866224"
      ]
     },
     "execution_count": 110,
     "metadata": {},
     "output_type": "execute_result"
    }
   ],
   "source": [
    "id(y)"
   ]
  },
  {
   "cell_type": "code",
   "execution_count": null,
   "id": "a8c73bfe-7234-495f-a4a6-35b9c914d6d2",
   "metadata": {},
   "outputs": [],
   "source": []
  }
 ],
 "metadata": {
  "kernelspec": {
   "display_name": "Python 3 (ipykernel)",
   "language": "python",
   "name": "python3"
  },
  "language_info": {
   "codemirror_mode": {
    "name": "ipython",
    "version": 3
   },
   "file_extension": ".py",
   "mimetype": "text/x-python",
   "name": "python",
   "nbconvert_exporter": "python",
   "pygments_lexer": "ipython3",
   "version": "3.11.7"
  }
 },
 "nbformat": 4,
 "nbformat_minor": 5
}
