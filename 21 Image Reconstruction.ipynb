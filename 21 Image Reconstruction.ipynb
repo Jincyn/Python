{
 "cells": [
  {
   "cell_type": "code",
   "execution_count": 1,
   "id": "19120422-201f-46e9-986b-e2210b826413",
   "metadata": {},
   "outputs": [],
   "source": [
    "import cv2\n",
    "import numpy as np\n",
    "import matplotlib.pyplot as plt"
   ]
  },
  {
   "cell_type": "code",
   "execution_count": 2,
   "id": "5eac02ae-74cb-40ae-9fb8-5742c59544b7",
   "metadata": {},
   "outputs": [],
   "source": [
    "# load the image\n",
    "img = cv2.imread('images/cat_damaged.png')\n",
    "\n",
    "# Display Results\n",
    "cv2.imshow('Damaged Image', img)\n",
    "cv2.waitKey()\n",
    "cv2.destroyAllWindows()"
   ]
  },
  {
   "cell_type": "code",
   "execution_count": 3,
   "id": "6c8d5e88-107b-43ec-9c41-efe361e45fef",
   "metadata": {},
   "outputs": [],
   "source": [
    "height, width  = img.shape[:2]"
   ]
  },
  {
   "cell_type": "code",
   "execution_count": 4,
   "id": "fa088a27-9e15-4929-8131-21567e992998",
   "metadata": {},
   "outputs": [
    {
     "data": {
      "text/plain": [
       "(400, 400)"
      ]
     },
     "execution_count": 4,
     "metadata": {},
     "output_type": "execute_result"
    }
   ],
   "source": [
    "height, width"
   ]
  },
  {
   "cell_type": "code",
   "execution_count": 12,
   "id": "b98d5cd0-3c12-4bc5-9b57-04db53703001",
   "metadata": {},
   "outputs": [],
   "source": [
    "mask = np.zeros([height,width,3], dtype=np.uint8)"
   ]
  },
  {
   "cell_type": "code",
   "execution_count": 13,
   "id": "f929feca-ba42-4479-a7bf-cee45cd110b9",
   "metadata": {},
   "outputs": [],
   "source": [
    "cv2.imshow('Mask', mask)\n",
    "cv2.waitKey(0)\n",
    "cv2.destroyAllWindows()"
   ]
  },
  {
   "cell_type": "code",
   "execution_count": 14,
   "id": "0523765c-a72f-43cb-b448-2c4700eb6587",
   "metadata": {},
   "outputs": [],
   "source": [
    "for i in range(height):\n",
    "    for  j in range(width):\n",
    "        if img[i,j].sum() ==0:\n",
    "            mask[i,j] = [255,255,255]"
   ]
  },
  {
   "cell_type": "code",
   "execution_count": 15,
   "id": "e9eaa542-3f18-4f12-8a1b-33f66d98c4f9",
   "metadata": {},
   "outputs": [],
   "source": [
    "cv2.imshow('Mask', mask)\n",
    "cv2.waitKey(0)\n",
    "cv2.destroyAllWindows()"
   ]
  },
  {
   "cell_type": "code",
   "execution_count": 18,
   "id": "3ffd086a-97e6-43a6-bae3-61e24a0cb92b",
   "metadata": {},
   "outputs": [],
   "source": [
    "mask = cv2.cvtColor(mask, cv2.COLOR_BGR2GRAY)"
   ]
  },
  {
   "cell_type": "code",
   "execution_count": 19,
   "id": "c8620e37-b180-4393-809f-86a262c0491d",
   "metadata": {},
   "outputs": [],
   "source": [
    "#inpaint\n",
    "dst = cv2.inpaint(img,mask,3,cv2.INPAINT_NS)"
   ]
  },
  {
   "cell_type": "code",
   "execution_count": 20,
   "id": "07f8264a-7da8-4a46-ae82-333d4ec69595",
   "metadata": {},
   "outputs": [],
   "source": [
    "cv2.imshow('Final Image', dst)\n",
    "cv2.waitKey(0)\n",
    "cv2.destroyAllWindows()"
   ]
  },
  {
   "cell_type": "code",
   "execution_count": null,
   "id": "8663228f-a189-4b7d-9b7a-8e8d64eda221",
   "metadata": {},
   "outputs": [],
   "source": []
  }
 ],
 "metadata": {
  "kernelspec": {
   "display_name": "Python 3 (ipykernel)",
   "language": "python",
   "name": "python3"
  },
  "language_info": {
   "codemirror_mode": {
    "name": "ipython",
    "version": 3
   },
   "file_extension": ".py",
   "mimetype": "text/x-python",
   "name": "python",
   "nbconvert_exporter": "python",
   "pygments_lexer": "ipython3",
   "version": "3.11.7"
  }
 },
 "nbformat": 4,
 "nbformat_minor": 5
}
