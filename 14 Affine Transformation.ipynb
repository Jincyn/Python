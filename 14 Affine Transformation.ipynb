{
 "cells": [
  {
   "cell_type": "code",
   "execution_count": 1,
   "id": "a60461ca-07df-45cd-bd61-5dabaab0a1e6",
   "metadata": {},
   "outputs": [],
   "source": [
    "import cv2\n",
    "import matplotlib.pyplot as plt\n",
    "import numpy as np\n"
   ]
  },
  {
   "cell_type": "code",
   "execution_count": 3,
   "id": "cf2d03a2-365f-4eef-9ad7-594101d8bcf6",
   "metadata": {},
   "outputs": [],
   "source": [
    "#Load the image\n",
    "img = cv2.imread('images/lenna.png')\n",
    "\n",
    "# Define transformation parameters\n",
    "tx = 50 #Translation along x-axis\n",
    "ty = 100 # Translation along y -axis\n",
    "angle = 45 #Rotaion angle in degrees\n",
    "scale = 1.2 #scaling factor\n",
    "shear_x = 0.3 # Shearing along x- axis\n",
    "shear_y = 0.2 #shearing along y-axis\n",
    "\n",
    "# Create transformation matrix\n",
    "M = np.float32([[scale * np.cos(np.radians(angle)), shear_x, tx],\n",
    "                [shear_y, scale *np.sin(np.radians(angle)), ty]])\n",
    "\n",
    "#Apply Transformation using warpAffine\n",
    "img_affine = cv2.warpAffine(img, M, (512,512))\n",
    "\n",
    "#Disply original and Affine transformed images\n",
    "final_img = np.hstack([img, img_affine])\n",
    "cv2.imshow('Affine Transformed Image', final_img)\n",
    "cv2.waitKey(0)\n",
    "cv2.destroyAllWindows()"
   ]
  },
  {
   "cell_type": "code",
   "execution_count": null,
   "id": "4941afc9-6c1e-4168-b592-f285b64bb9ae",
   "metadata": {},
   "outputs": [],
   "source": []
  }
 ],
 "metadata": {
  "kernelspec": {
   "display_name": "Python 3 (ipykernel)",
   "language": "python",
   "name": "python3"
  },
  "language_info": {
   "codemirror_mode": {
    "name": "ipython",
    "version": 3
   },
   "file_extension": ".py",
   "mimetype": "text/x-python",
   "name": "python",
   "nbconvert_exporter": "python",
   "pygments_lexer": "ipython3",
   "version": "3.11.7"
  }
 },
 "nbformat": 4,
 "nbformat_minor": 5
}
